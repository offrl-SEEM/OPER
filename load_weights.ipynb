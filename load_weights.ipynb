{
 "cells": [
  {
   "cell_type": "code",
   "execution_count": 2,
   "metadata": {},
   "outputs": [],
   "source": [
    "import numpy as np\n",
    "import os"
   ]
  },
  {
   "cell_type": "code",
   "execution_count": 8,
   "metadata": {},
   "outputs": [],
   "source": [
    "def load_weights(path):\n",
    "    adv = np.load(path, allow_pickle=True).item()[1000000]['adv']\n",
    "    w = adv - adv.min()\n",
    "    w = w / w.sum() * w.shape[0]\n",
    "    return w"
   ]
  },
  {
   "cell_type": "code",
   "execution_count": 14,
   "metadata": {},
   "outputs": [
    {
     "name": "stdout",
     "output_type": "stream",
     "text": [
      "walker2d-medium-v2\n",
      "seed 0 1.92   [0.8  0.92 1.03 0.98 0.68 1.14 1.08 1.01 1.02 1.01]\n",
      "[1.04 1.02 1.01 1.02 1.   0.99 0.98 0.74 1.11 0.67 1.92 1.07 0.97 1.11\n",
      " 0.9  0.98 1.16 1.05 0.96 1.09]\n",
      "seed 1 1.89   [0.83 0.97 0.99 0.95 0.7  1.15 0.98 1.11 0.97 0.98]\n",
      "[1.01 1.03 1.   1.   1.01 0.98 0.96 0.78 1.09 0.67 1.89 1.   1.1  1.03\n",
      " 0.89 1.05 1.13 1.01 0.96 1.09]\n",
      "seed 2 1.8   [0.8  0.96 0.99 1.02 0.64 1.17 0.98 1.08 1.01 1.02]\n",
      "[0.99 0.99 0.99 0.99 0.99 0.99 0.83 0.94 0.82 0.92 1.8  1.07 0.81 1.16\n",
      " 1.01 0.56 0.99 1.11 1.23 0.97]\n",
      "seed 3 1.94   [0.81 0.93 0.96 0.92 0.72 1.19 1.03 1.09 1.01 0.99]\n",
      "[1.04 1.02 1.08 1.01 0.99 0.99 0.72 0.55 0.81 1.12 1.94 1.14 0.76 0.9\n",
      " 0.93 0.83 1.03 1.13 0.91 1.01]\n",
      "seed 4 1.92   [0.79 0.94 1.   0.93 0.65 1.19 1.01 1.16 0.97 0.95]\n",
      "[0.99 0.99 0.99 0.99 0.99 0.99 0.82 0.92 0.77 0.96 1.92 1.04 0.76 1.21\n",
      " 1.02 0.46 1.05 1.14 1.2  1.11]\n",
      "seed 5 1.93   [0.77 0.98 1.   0.92 0.72 1.16 1.   1.11 1.01 0.96]\n",
      "[1.02 1.01 0.99 1.03 1.01 0.96 1.01 0.78 1.07 0.71 1.93 1.01 1.02 1.06\n",
      " 0.94 0.91 1.22 1.05 0.95 1.04]\n",
      "walker2d-medium-replay-v2\n",
      "seed 0 2.21   [1.01 0.95 0.94 0.76 1.15 1.16 1.12 1.07 1.03 0.91]\n",
      "[1.16 1.07 1.08 0.99 1.26 0.64 0.76 1.18 0.67 0.95 2.21 0.64 0.53 0.82\n",
      " 1.47 0.62 1.48 0.84 0.68 0.59]\n",
      "seed 1 2.18   [1.03 0.91 0.9  0.82 0.98 1.29 1.2  1.1  0.96 0.95]\n",
      "[1.23 1.06 1.08 1.01 1.22 0.64 0.81 1.15 0.67 0.97 2.18 0.45 0.8  0.9\n",
      " 1.45 0.62 1.35 0.93 0.63 0.51]\n",
      "seed 2 1.98   [0.98 0.93 0.99 0.83 1.15 1.08 1.16 1.   1.11 0.88]\n",
      "[1.21 1.02 1.03 0.98 1.22 0.67 0.87 1.15 0.67 1.02 1.98 0.6  0.73 0.82\n",
      " 1.27 0.8  1.29 1.03 0.66 0.62]\n",
      "seed 3 1.94   [0.99 0.98 0.81 0.77 1.16 1.32 1.13 1.16 0.93 0.88]\n",
      "[1.03 1.   0.77 1.4  0.99 0.88 0.72 0.93 1.17 0.71 1.94 1.2  0.85 1.\n",
      " 1.01 1.04 0.91 1.04 1.09 1.13]\n",
      "seed 4 1.93   [1.   0.99 0.88 0.77 1.12 1.34 1.09 1.12 0.91 0.91]\n",
      "[1.28 1.07 1.05 1.03 1.24 0.55 0.91 1.14 0.71 1.02 1.93 0.63 0.53 1.04\n",
      " 1.51 0.61 1.38 0.91 0.66 0.45]\n",
      "seed 5 2.06   [1.01 0.88 0.91 0.69 1.22 1.23 1.05 1.25 0.95 0.95]\n",
      "[1.24 1.04 1.05 1.01 1.26 0.57 0.86 1.28 0.64 1.08 2.06 0.46 0.66 0.74\n",
      " 1.42 0.93 1.4  1.04 0.68 0.29]\n",
      "walker2d-medium-expert-v2\n",
      "seed 0 1.83   [0.35 0.91 0.95 1.01 0.77 1.07 0.96 1.1  0.99 0.99]\n",
      "[1.02 0.95 1.05 1.   0.98 1.01 1.02 0.97 0.19 1.02 1.83 0.82 1.12 1.2\n",
      " 1.06 1.02 1.03 0.99 1.09 1.02]\n",
      "seed 1 1.74   [0.34 0.98 0.95 0.94 0.77 1.14 0.99 1.04 1.   0.9 ]\n",
      "[0.99 1.   0.99 1.01 0.98 1.   1.08 0.22 1.16 0.68 1.74 1.18 0.98 0.98\n",
      " 0.82 1.13 1.11 1.03 1.02 1.05]\n",
      "seed 2 1.83   [0.45 0.88 0.99 1.04 0.69 1.08 0.94 1.1  1.05 0.94]\n",
      "[1.01 1.05 1.02 1.11 1.11 1.11 0.98 0.96 0.93 0.44 1.83 0.66 0.83 1.03\n",
      " 0.76 1.2  1.   1.08 0.96 1.13]\n",
      "seed 3 1.85   [0.41 0.92 0.91 1.06 0.7  1.07 0.99 0.99 0.99 0.97]\n",
      "[1.05 1.11 0.96 1.08 0.62 0.95 1.06 0.79 1.11 0.82 1.85 1.39 1.05 1.04\n",
      " 1.01 0.99 1.02 1.03 1.05 1.02]\n",
      "seed 4 1.92   [0.4  0.92 0.92 1.06 0.68 1.11 0.98 1.05 1.02 0.96]\n",
      "[0.67 1.11 0.89 0.86 1.14 0.87 0.93 0.85 0.89 0.77 1.92 0.35 1.21 1.12\n",
      " 1.15 0.98 1.   1.05 1.15 1.11]\n",
      "seed 5 2.02   [0.37 0.91 0.93 1.   0.73 1.09 0.99 1.05 1.01 0.99]\n",
      "[0.62 0.9  0.68 0.83 1.32 1.05 0.88 0.55 0.94 0.81 2.02 0.57 1.22 0.94\n",
      " 1.   1.12 0.95 0.97 1.05 1.04]\n",
      "hopper-medium-v2\n",
      "seed 0 1.8   [0.62 0.5  0.83 0.99 1.03 1.03 1.02 1.03 1.07 1.05]\n",
      "[0.98 1.01 1.01 1.01 1.   1.   1.01 1.   0.99 0.88 1.8  1.01 1.01 1.\n",
      " 1.03 0.98 1.   0.98 1.01 1.02]\n"
     ]
    },
    {
     "ename": "KeyError",
     "evalue": "1000000",
     "output_type": "error",
     "traceback": [
      "\u001b[0;31m---------------------------------------------------------------------------\u001b[0m",
      "\u001b[0;31mKeyError\u001b[0m                                  Traceback (most recent call last)",
      "\u001b[1;32m/home/aiops/yueyang/TD3_BC/load_weights.ipynb Cell 3\u001b[0m in \u001b[0;36m<cell line: 2>\u001b[0;34m()\u001b[0m\n\u001b[1;32m      <a href='vscode-notebook-cell://ssh-remote%2Bsail-3090-debug/home/aiops/yueyang/TD3_BC/load_weights.ipynb#W2sdnNjb2RlLXJlbW90ZQ%3D%3D?line=7'>8</a>\u001b[0m weights \u001b[39m=\u001b[39m []\n\u001b[1;32m      <a href='vscode-notebook-cell://ssh-remote%2Bsail-3090-debug/home/aiops/yueyang/TD3_BC/load_weights.ipynb#W2sdnNjb2RlLXJlbW90ZQ%3D%3D?line=8'>9</a>\u001b[0m \u001b[39mif\u001b[39;00m os\u001b[39m.\u001b[39mpath\u001b[39m.\u001b[39mexists(path):\n\u001b[0;32m---> <a href='vscode-notebook-cell://ssh-remote%2Bsail-3090-debug/home/aiops/yueyang/TD3_BC/load_weights.ipynb#W2sdnNjb2RlLXJlbW90ZQ%3D%3D?line=9'>10</a>\u001b[0m     weights\u001b[39m.\u001b[39mappend(load_weights(path))\n\u001b[1;32m     <a href='vscode-notebook-cell://ssh-remote%2Bsail-3090-debug/home/aiops/yueyang/TD3_BC/load_weights.ipynb#W2sdnNjb2RlLXJlbW90ZQ%3D%3D?line=10'>11</a>\u001b[0m     \u001b[39mprint\u001b[39m(\u001b[39mf\u001b[39m\u001b[39m'\u001b[39m\u001b[39mseed \u001b[39m\u001b[39m{\u001b[39;00mseed\u001b[39m}\u001b[39;00m\u001b[39m'\u001b[39m, weights[\u001b[39m-\u001b[39m\u001b[39m1\u001b[39m]\u001b[39m.\u001b[39mmax()\u001b[39m.\u001b[39mround(\u001b[39m2\u001b[39m), \u001b[39m'\u001b[39m\u001b[39m \u001b[39m\u001b[39m'\u001b[39m, weights[\u001b[39m-\u001b[39m\u001b[39m1\u001b[39m][:\u001b[39m10\u001b[39m]\u001b[39m.\u001b[39mround(\u001b[39m2\u001b[39m))\n\u001b[1;32m     <a href='vscode-notebook-cell://ssh-remote%2Bsail-3090-debug/home/aiops/yueyang/TD3_BC/load_weights.ipynb#W2sdnNjb2RlLXJlbW90ZQ%3D%3D?line=11'>12</a>\u001b[0m     idx \u001b[39m=\u001b[39m \u001b[39mint\u001b[39m(np\u001b[39m.\u001b[39margmax(weights[\u001b[39m-\u001b[39m\u001b[39m1\u001b[39m], axis\u001b[39m=\u001b[39m\u001b[39m0\u001b[39m))\n",
      "\u001b[1;32m/home/aiops/yueyang/TD3_BC/load_weights.ipynb Cell 3\u001b[0m in \u001b[0;36mload_weights\u001b[0;34m(path)\u001b[0m\n\u001b[1;32m      <a href='vscode-notebook-cell://ssh-remote%2Bsail-3090-debug/home/aiops/yueyang/TD3_BC/load_weights.ipynb#W2sdnNjb2RlLXJlbW90ZQ%3D%3D?line=0'>1</a>\u001b[0m \u001b[39mdef\u001b[39;00m \u001b[39mload_weights\u001b[39m(path):\n\u001b[0;32m----> <a href='vscode-notebook-cell://ssh-remote%2Bsail-3090-debug/home/aiops/yueyang/TD3_BC/load_weights.ipynb#W2sdnNjb2RlLXJlbW90ZQ%3D%3D?line=1'>2</a>\u001b[0m     adv \u001b[39m=\u001b[39m np\u001b[39m.\u001b[39;49mload(path, allow_pickle\u001b[39m=\u001b[39;49m\u001b[39mTrue\u001b[39;49;00m)\u001b[39m.\u001b[39;49mitem()[\u001b[39m1000000\u001b[39;49m][\u001b[39m'\u001b[39m\u001b[39madv\u001b[39m\u001b[39m'\u001b[39m]\n\u001b[1;32m      <a href='vscode-notebook-cell://ssh-remote%2Bsail-3090-debug/home/aiops/yueyang/TD3_BC/load_weights.ipynb#W2sdnNjb2RlLXJlbW90ZQ%3D%3D?line=2'>3</a>\u001b[0m     w \u001b[39m=\u001b[39m adv \u001b[39m-\u001b[39m adv\u001b[39m.\u001b[39mmin()\n\u001b[1;32m      <a href='vscode-notebook-cell://ssh-remote%2Bsail-3090-debug/home/aiops/yueyang/TD3_BC/load_weights.ipynb#W2sdnNjb2RlLXJlbW90ZQ%3D%3D?line=3'>4</a>\u001b[0m     w \u001b[39m=\u001b[39m w \u001b[39m/\u001b[39m w\u001b[39m.\u001b[39msum() \u001b[39m*\u001b[39m w\u001b[39m.\u001b[39mshape[\u001b[39m0\u001b[39m]\n",
      "\u001b[0;31mKeyError\u001b[0m: 1000000"
     ]
    }
   ],
   "source": [
    "prefix = 'doublev_onestep_cosine'\n",
    "for env in ['walker2d', 'hopper', 'halfcheetah']:\n",
    "    for level in ['medium', 'medium-replay', 'medium-expert']:\n",
    "        task = f'{env}-{level}-v2'\n",
    "        print(task)\n",
    "        for seed in range(6):\n",
    "            path = f\"./weights/{prefix}_{task}_{seed}.npy\"\n",
    "            weights = []\n",
    "            if os.path.exists(path):\n",
    "                weights.append(load_weights(path))\n",
    "                print(f'seed {seed}', weights[-1].max().round(2), ' ', weights[-1][:10].round(2))\n",
    "                idx = int(np.argmax(weights[-1], axis=0))\n",
    "                print(weights[-1][idx-10:idx+10].round(2))\n",
    "            else:\n",
    "                print(f'{path} doesn\\'t exists')\n",
    "            \n"
   ]
  }
 ],
 "metadata": {
  "kernelspec": {
   "display_name": "Python 3.8.13 ('td3_bc')",
   "language": "python",
   "name": "python3"
  },
  "language_info": {
   "codemirror_mode": {
    "name": "ipython",
    "version": 3
   },
   "file_extension": ".py",
   "mimetype": "text/x-python",
   "name": "python",
   "nbconvert_exporter": "python",
   "pygments_lexer": "ipython3",
   "version": "3.8.13"
  },
  "orig_nbformat": 4,
  "vscode": {
   "interpreter": {
    "hash": "8524fb748e7276db4bdcefdabdfd13f5a84dea2e56ae9f168f5a5ce12b9d993e"
   }
  }
 },
 "nbformat": 4,
 "nbformat_minor": 2
}
